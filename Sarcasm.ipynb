{
  "nbformat": 4,
  "nbformat_minor": 0,
  "metadata": {
    "colab": {
      "name": "Sarcasm.ipynb",
      "provenance": []
    },
    "kernelspec": {
      "name": "python3",
      "display_name": "Python 3"
    },
    "accelerator": "GPU"
  },
  "cells": [
    {
      "cell_type": "code",
      "metadata": {
        "id": "8DuKvSX7q9BO",
        "colab_type": "code",
        "colab": {}
      },
      "source": [
        "import json\n",
        "import tensorflow as tf\n",
        "from tensorflow.keras.preprocessing.text import Tokenizer\n",
        "from tensorflow.keras.preprocessing.sequence import pad_sequences\n",
        "\n",
        "vocab_size = 2000\n",
        "embedding_dim=16\n",
        "max_length=120\n",
        "trunc_type='post'\n",
        "padding_type='post'\n",
        "oov_tok=\"<OOV>\"\n",
        "train_size = 20000\n",
        "\n",
        "dataset=[]\n",
        "with open(\"sarcasm.json\", 'r') as f:\n",
        "  for line in f:\n",
        "    dataset.append(json.loads(line))\n",
        "\n",
        "sentences=[]\n",
        "labels=[]\n",
        "urls=[]\n",
        "for x in dataset:\n",
        "  urls.append(x['article_link'])\n",
        "  sentences.append(x['headline'])\n",
        "  labels.append(x['is_sarcastic'])\n",
        "  \n",
        "training_sentences = sentences[0:train_size]\n",
        "testing_sentences = sentences[train_size:]\n",
        "training_labels = labels[0:train_size]\n",
        "testing_labels = labels[train_size:]\n",
        "\n",
        "tokenizer = Tokenizer(num_words=vocab_size, oov_token=oov_tok)\n",
        "tokenizer.fit_on_texts(training_sentences)\n",
        "\n",
        "word_index= tokenizer.word_index\n",
        "\n",
        "training_sequences = tokenizer.texts_to_sequences(training_sentences)\n",
        "training_padded = pad_sequences(training_sequences, maxlen=max_length, padding=padding_type, truncating=trunc_type)\n",
        "\n",
        "testing_sequences = tokenizer.texts_to_sequences(testing_sentences)\n",
        "testing_padded = pad_sequences(testing_sequences, maxlen=max_length, padding=padding_type, truncating=trunc_type)"
      ],
      "execution_count": 0,
      "outputs": []
    },
    {
      "cell_type": "code",
      "metadata": {
        "id": "0GcNRMlT11k5",
        "colab_type": "code",
        "outputId": "cf94ec7d-c3ab-40f4-fd02-94de165bc068",
        "colab": {
          "base_uri": "https://localhost:8080/",
          "height": 308
        }
      },
      "source": [
        "model = tf.keras.Sequential([\n",
        "  tf.keras.layers.Embedding(vocab_size, embedding_dim, input_length=max_length),\n",
        "  tf.keras.layers.GlobalAveragePooling1D(),\n",
        "  tf.keras.layers.Dense(24, activation= 'relu'),\n",
        "  tf.keras.layers.Dense(1, activation= 'sigmoid')\n",
        "])\n",
        "model.compile(loss='binary_crossentropy', optimizer='adam', metrics=['accuracy'])\n",
        "\n",
        "model.summary()"
      ],
      "execution_count": 0,
      "outputs": [
        {
          "output_type": "stream",
          "text": [
            "Model: \"sequential_11\"\n",
            "_________________________________________________________________\n",
            "Layer (type)                 Output Shape              Param #   \n",
            "=================================================================\n",
            "embedding_11 (Embedding)     (None, 120, 16)           32000     \n",
            "_________________________________________________________________\n",
            "global_average_pooling1d_11  (None, 16)                0         \n",
            "_________________________________________________________________\n",
            "dense_22 (Dense)             (None, 24)                408       \n",
            "_________________________________________________________________\n",
            "dense_23 (Dense)             (None, 1)                 25        \n",
            "=================================================================\n",
            "Total params: 32,433\n",
            "Trainable params: 32,433\n",
            "Non-trainable params: 0\n",
            "_________________________________________________________________\n"
          ],
          "name": "stdout"
        }
      ]
    },
    {
      "cell_type": "code",
      "metadata": {
        "id": "WB8CY_GO5eDH",
        "colab_type": "code",
        "outputId": "0e360f07-8644-4ac8-8d71-4e0532659596",
        "colab": {
          "base_uri": "https://localhost:8080/",
          "height": 1000
        }
      },
      "source": [
        "num_epochs=30\n",
        "history = model.fit(training_padded, training_labels, epochs=num_epochs, validation_data=(testing_padded, testing_labels), verbose=2)"
      ],
      "execution_count": 0,
      "outputs": [
        {
          "output_type": "stream",
          "text": [
            "Train on 20000 samples, validate on 6709 samples\n",
            "Epoch 1/30\n",
            "20000/20000 - 3s - loss: 0.6763 - acc: 0.5691 - val_loss: 0.6353 - val_acc: 0.6603\n",
            "Epoch 2/30\n",
            "20000/20000 - 3s - loss: 0.5039 - acc: 0.7728 - val_loss: 0.4277 - val_acc: 0.8067\n",
            "Epoch 3/30\n",
            "20000/20000 - 3s - loss: 0.3827 - acc: 0.8320 - val_loss: 0.4048 - val_acc: 0.8094\n",
            "Epoch 4/30\n",
            "20000/20000 - 3s - loss: 0.3493 - acc: 0.8462 - val_loss: 0.3842 - val_acc: 0.8287\n",
            "Epoch 5/30\n",
            "20000/20000 - 3s - loss: 0.3331 - acc: 0.8555 - val_loss: 0.3723 - val_acc: 0.8341\n",
            "Epoch 6/30\n",
            "20000/20000 - 3s - loss: 0.3201 - acc: 0.8601 - val_loss: 0.3707 - val_acc: 0.8332\n",
            "Epoch 7/30\n",
            "20000/20000 - 3s - loss: 0.3123 - acc: 0.8645 - val_loss: 0.3794 - val_acc: 0.8247\n",
            "Epoch 8/30\n",
            "20000/20000 - 3s - loss: 0.3069 - acc: 0.8652 - val_loss: 0.3726 - val_acc: 0.8292\n",
            "Epoch 9/30\n",
            "20000/20000 - 3s - loss: 0.3009 - acc: 0.8686 - val_loss: 0.3824 - val_acc: 0.8244\n",
            "Epoch 10/30\n",
            "20000/20000 - 3s - loss: 0.2981 - acc: 0.8702 - val_loss: 0.3798 - val_acc: 0.8274\n",
            "Epoch 11/30\n",
            "20000/20000 - 3s - loss: 0.2944 - acc: 0.8704 - val_loss: 0.3811 - val_acc: 0.8301\n",
            "Epoch 12/30\n",
            "20000/20000 - 3s - loss: 0.2926 - acc: 0.8729 - val_loss: 0.3839 - val_acc: 0.8275\n",
            "Epoch 13/30\n",
            "20000/20000 - 3s - loss: 0.2897 - acc: 0.8742 - val_loss: 0.3854 - val_acc: 0.8289\n",
            "Epoch 14/30\n",
            "20000/20000 - 3s - loss: 0.2881 - acc: 0.8748 - val_loss: 0.3888 - val_acc: 0.8252\n",
            "Epoch 15/30\n",
            "20000/20000 - 3s - loss: 0.2873 - acc: 0.8746 - val_loss: 0.3920 - val_acc: 0.8243\n",
            "Epoch 16/30\n",
            "20000/20000 - 3s - loss: 0.2873 - acc: 0.8727 - val_loss: 0.4109 - val_acc: 0.8223\n",
            "Epoch 17/30\n",
            "20000/20000 - 3s - loss: 0.2872 - acc: 0.8753 - val_loss: 0.3921 - val_acc: 0.8261\n",
            "Epoch 18/30\n",
            "20000/20000 - 3s - loss: 0.2839 - acc: 0.8766 - val_loss: 0.4017 - val_acc: 0.8267\n",
            "Epoch 19/30\n",
            "20000/20000 - 3s - loss: 0.2844 - acc: 0.8745 - val_loss: 0.3982 - val_acc: 0.8289\n",
            "Epoch 20/30\n",
            "20000/20000 - 3s - loss: 0.2816 - acc: 0.8769 - val_loss: 0.4121 - val_acc: 0.8188\n",
            "Epoch 21/30\n",
            "20000/20000 - 3s - loss: 0.2818 - acc: 0.8766 - val_loss: 0.4001 - val_acc: 0.8240\n",
            "Epoch 22/30\n",
            "20000/20000 - 3s - loss: 0.2816 - acc: 0.8767 - val_loss: 0.4007 - val_acc: 0.8253\n",
            "Epoch 23/30\n",
            "20000/20000 - 3s - loss: 0.2822 - acc: 0.8764 - val_loss: 0.4021 - val_acc: 0.8250\n",
            "Epoch 24/30\n",
            "20000/20000 - 3s - loss: 0.2827 - acc: 0.8756 - val_loss: 0.4082 - val_acc: 0.8207\n",
            "Epoch 25/30\n",
            "20000/20000 - 3s - loss: 0.2818 - acc: 0.8770 - val_loss: 0.4036 - val_acc: 0.8265\n",
            "Epoch 26/30\n",
            "20000/20000 - 3s - loss: 0.2792 - acc: 0.8763 - val_loss: 0.4048 - val_acc: 0.8247\n",
            "Epoch 27/30\n",
            "20000/20000 - 3s - loss: 0.2795 - acc: 0.8788 - val_loss: 0.4173 - val_acc: 0.8176\n",
            "Epoch 28/30\n",
            "20000/20000 - 3s - loss: 0.2794 - acc: 0.8783 - val_loss: 0.4068 - val_acc: 0.8269\n",
            "Epoch 29/30\n",
            "20000/20000 - 3s - loss: 0.2798 - acc: 0.8784 - val_loss: 0.4051 - val_acc: 0.8259\n",
            "Epoch 30/30\n",
            "20000/20000 - 3s - loss: 0.2790 - acc: 0.8780 - val_loss: 0.4076 - val_acc: 0.8238\n"
          ],
          "name": "stdout"
        }
      ]
    },
    {
      "cell_type": "code",
      "metadata": {
        "id": "KIxBXHNt6BkS",
        "colab_type": "code",
        "outputId": "e42337cd-f9c9-49e9-8c42-23b0f758d916",
        "colab": {
          "base_uri": "https://localhost:8080/",
          "height": 541
        }
      },
      "source": [
        "import matplotlib.pyplot as plt\n",
        "def plot_graphs(history, string):\n",
        "  plt.plot(history.history[string])\n",
        "  plt.plot(history.history['val_'+string])\n",
        "  plt.xlabel(\"Epochs\")\n",
        "  plt.ylabel(string)\n",
        "  plt.legend([string, 'val_'+string])\n",
        "  plt.show()\n",
        "\n",
        "plot_graphs(history, \"acc\")\n",
        "plot_graphs(history, \"loss\")"
      ],
      "execution_count": 0,
      "outputs": [
        {
          "output_type": "display_data",
          "data": {
            "image/png": "[encoded data removed]",
            "text/plain": [
              "<Figure size 432x288 with 1 Axes>"
            ]
          },
          "metadata": {
            "tags": []
          }
        },
        {
          "output_type": "display_data",
          "data": {
            "image/png": "[encoded data removed]",
            "text/plain": [
              "<Figure size 432x288 with 1 Axes>"
            ]
          },
          "metadata": {
            "tags": []
          }
        }
      ]
    }
  ]
}