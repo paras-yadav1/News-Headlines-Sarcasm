{
  "nbformat": 4,
  "nbformat_minor": 0,
  "metadata": {
    "colab": {
      "name": "Sarcasm CNN.ipynb",
      "provenance": [],
      "collapsed_sections": []
    },
    "kernelspec": {
      "name": "python3",
      "display_name": "Python 3"
    },
    "accelerator": "GPU"
  },
  "cells": [
    {
      "cell_type": "code",
      "metadata": {
        "id": "jGwXGIXvFhXW",
        "colab_type": "code",
        "outputId": "79c580d2-3149-4fd6-bf60-6edb52939042",
        "colab": {
          "base_uri": "https://localhost:8080/",
          "height": 1000
        }
      },
      "source": [
        "import json\n",
        "import tensorflow as tf\n",
        "\n",
        "from tensorflow.keras.preprocessing.text import Tokenizer\n",
        "from tensorflow.keras.preprocessing.sequence import pad_sequences\n",
        "\n",
        "\n",
        "vocab_size = 1000\n",
        "embedding_dim = 16\n",
        "max_length = 120\n",
        "trunc_type='post'\n",
        "padding_type='post'\n",
        "oov_tok = \"<OOV>\"\n",
        "training_size = 20000\n",
        "\n",
        "\n",
        "with open(\"sarcasm.json\", 'r') as f:\n",
        "  for line in f:\n",
        "    datastore.append(json.loads(line))\n",
        "\n",
        "\n",
        "sentences = []\n",
        "labels = []\n",
        "urls = []\n",
        "for item in datastore:\n",
        "  sentences.append(item['headline'])\n",
        "  labels.append(item['is_sarcastic'])\n",
        "\n",
        "training_sentences = sentences[0:training_size]\n",
        "testing_sentences = sentences[training_size:]\n",
        "training_labels = labels[0:training_size]\n",
        "testing_labels = labels[training_size:]\n",
        "\n",
        "tokenizer = Tokenizer(num_words=vocab_size, oov_token=oov_tok)\n",
        "tokenizer.fit_on_texts(training_sentences)\n",
        "\n",
        "word_index = tokenizer.word_index\n",
        "\n",
        "training_sequences = tokenizer.texts_to_sequences(training_sentences)\n",
        "training_padded = pad_sequences(training_sequences, maxlen=max_length, padding=padding_type, truncating=trunc_type)\n",
        "\n",
        "testing_sequences = tokenizer.texts_to_sequences(testing_sentences)\n",
        "testing_padded = pad_sequences(testing_sequences, maxlen=max_length, padding=padding_type, truncating=trunc_type)\n",
        "\n",
        "model = tf.keras.Sequential([\n",
        "  tf.keras.layers.Embedding(vocab_size, embedding_dim, input_length=max_length),\n",
        "  tf.keras.layers.Conv1D(128, 5, activation='relu'),\n",
        "  tf.keras.layers.GlobalMaxPooling1D(),\n",
        "  tf.keras.layers.Dense(24, activation='relu'),\n",
        "  tf.keras.layers.Dense(1, activation='sigmoid')\n",
        "])\n",
        "model.compile(loss='binary_crossentropy',optimizer='adam',metrics=['accuracy'])\n",
        "model.summary()\n",
        "\n",
        "num_epochs = 50\n",
        "history = model.fit(training_padded, training_labels, epochs=num_epochs, validation_data=(testing_padded, testing_labels), verbose=1)\n",
        "\n"
      ],
      "execution_count": 10,
      "outputs": [
        {
          "output_type": "stream",
          "text": [
            "Model: \"sequential_1\"\n",
            "_________________________________________________________________\n",
            "Layer (type)                 Output Shape              Param #   \n",
            "=================================================================\n",
            "embedding_1 (Embedding)      (None, 120, 16)           16000     \n",
            "_________________________________________________________________\n",
            "conv1d_1 (Conv1D)            (None, 116, 128)          10368     \n",
            "_________________________________________________________________\n",
            "global_max_pooling1d_1 (Glob (None, 128)               0         \n",
            "_________________________________________________________________\n",
            "dense_2 (Dense)              (None, 24)                3096      \n",
            "_________________________________________________________________\n",
            "dense_3 (Dense)              (None, 1)                 25        \n",
            "=================================================================\n",
            "Total params: 29,489\n",
            "Trainable params: 29,489\n",
            "Non-trainable params: 0\n",
            "_________________________________________________________________\n",
            "Train on 20000 samples, validate on 33418 samples\n",
            "Epoch 1/50\n",
            "20000/20000 [==============================] - 4s 214us/sample - loss: 0.4698 - acc: 0.7634 - val_loss: 0.3714 - val_acc: 0.8358\n",
            "Epoch 2/50\n",
            "20000/20000 [==============================] - 4s 203us/sample - loss: 0.3588 - acc: 0.8410 - val_loss: 0.3417 - val_acc: 0.8498\n",
            "Epoch 3/50\n",
            "20000/20000 [==============================] - 4s 199us/sample - loss: 0.3221 - acc: 0.8578 - val_loss: 0.3177 - val_acc: 0.8665\n",
            "Epoch 4/50\n",
            "20000/20000 [==============================] - 4s 201us/sample - loss: 0.2890 - acc: 0.8752 - val_loss: 0.3046 - val_acc: 0.8720\n",
            "Epoch 5/50\n",
            "20000/20000 [==============================] - 4s 199us/sample - loss: 0.2564 - acc: 0.8910 - val_loss: 0.2920 - val_acc: 0.8836\n",
            "Epoch 6/50\n",
            "20000/20000 [==============================] - 4s 200us/sample - loss: 0.2202 - acc: 0.9111 - val_loss: 0.2976 - val_acc: 0.8872\n",
            "Epoch 7/50\n",
            "20000/20000 [==============================] - 4s 201us/sample - loss: 0.1866 - acc: 0.9261 - val_loss: 0.2887 - val_acc: 0.8945\n",
            "Epoch 8/50\n",
            "20000/20000 [==============================] - 4s 201us/sample - loss: 0.1529 - acc: 0.9423 - val_loss: 0.2948 - val_acc: 0.9018\n",
            "Epoch 9/50\n",
            "20000/20000 [==============================] - 4s 203us/sample - loss: 0.1240 - acc: 0.9551 - val_loss: 0.3230 - val_acc: 0.9022\n",
            "Epoch 10/50\n",
            "20000/20000 [==============================] - 4s 203us/sample - loss: 0.1028 - acc: 0.9635 - val_loss: 0.3419 - val_acc: 0.9022\n",
            "Epoch 11/50\n",
            "20000/20000 [==============================] - 4s 203us/sample - loss: 0.0830 - acc: 0.9714 - val_loss: 0.3694 - val_acc: 0.9081\n",
            "Epoch 12/50\n",
            "20000/20000 [==============================] - 4s 200us/sample - loss: 0.0736 - acc: 0.9743 - val_loss: 0.3843 - val_acc: 0.9073\n",
            "Epoch 13/50\n",
            "20000/20000 [==============================] - 4s 198us/sample - loss: 0.0640 - acc: 0.9779 - val_loss: 0.4083 - val_acc: 0.9086\n",
            "Epoch 14/50\n",
            "20000/20000 [==============================] - 4s 198us/sample - loss: 0.0536 - acc: 0.9817 - val_loss: 0.4565 - val_acc: 0.9092\n",
            "Epoch 15/50\n",
            "20000/20000 [==============================] - 4s 198us/sample - loss: 0.0514 - acc: 0.9815 - val_loss: 0.5085 - val_acc: 0.9082\n",
            "Epoch 16/50\n",
            "20000/20000 [==============================] - 4s 198us/sample - loss: 0.0535 - acc: 0.9808 - val_loss: 0.4939 - val_acc: 0.9033\n",
            "Epoch 17/50\n",
            "20000/20000 [==============================] - 4s 199us/sample - loss: 0.0494 - acc: 0.9818 - val_loss: 0.5082 - val_acc: 0.9075\n",
            "Epoch 18/50\n",
            "20000/20000 [==============================] - 4s 198us/sample - loss: 0.0394 - acc: 0.9854 - val_loss: 0.5363 - val_acc: 0.9111\n",
            "Epoch 19/50\n",
            "20000/20000 [==============================] - 4s 197us/sample - loss: 0.0339 - acc: 0.9876 - val_loss: 0.5656 - val_acc: 0.9105\n",
            "Epoch 20/50\n",
            "20000/20000 [==============================] - 4s 197us/sample - loss: 0.0334 - acc: 0.9877 - val_loss: 0.5844 - val_acc: 0.9103\n",
            "Epoch 21/50\n",
            "20000/20000 [==============================] - 4s 205us/sample - loss: 0.0405 - acc: 0.9847 - val_loss: 0.6430 - val_acc: 0.9050\n",
            "Epoch 22/50\n",
            "20000/20000 [==============================] - 4s 204us/sample - loss: 0.0378 - acc: 0.9858 - val_loss: 0.6347 - val_acc: 0.9042\n",
            "Epoch 23/50\n",
            "20000/20000 [==============================] - 4s 201us/sample - loss: 0.0364 - acc: 0.9861 - val_loss: 0.7005 - val_acc: 0.9056\n",
            "Epoch 24/50\n",
            "20000/20000 [==============================] - 4s 195us/sample - loss: 0.0338 - acc: 0.9870 - val_loss: 0.6416 - val_acc: 0.9095\n",
            "Epoch 25/50\n",
            "20000/20000 [==============================] - 4s 199us/sample - loss: 0.0312 - acc: 0.9886 - val_loss: 0.7120 - val_acc: 0.9105\n",
            "Epoch 26/50\n",
            "20000/20000 [==============================] - 4s 194us/sample - loss: 0.0319 - acc: 0.9883 - val_loss: 0.6836 - val_acc: 0.9101\n",
            "Epoch 27/50\n",
            "20000/20000 [==============================] - 4s 194us/sample - loss: 0.0269 - acc: 0.9897 - val_loss: 0.7075 - val_acc: 0.9115\n",
            "Epoch 28/50\n",
            "20000/20000 [==============================] - 4s 195us/sample - loss: 0.0269 - acc: 0.9898 - val_loss: 0.7802 - val_acc: 0.9043\n",
            "Epoch 29/50\n",
            "20000/20000 [==============================] - 4s 194us/sample - loss: 0.0293 - acc: 0.9887 - val_loss: 0.6949 - val_acc: 0.9119\n",
            "Epoch 30/50\n",
            "20000/20000 [==============================] - 4s 196us/sample - loss: 0.0309 - acc: 0.9877 - val_loss: 0.7006 - val_acc: 0.9071\n",
            "Epoch 31/50\n",
            "20000/20000 [==============================] - 4s 222us/sample - loss: 0.0275 - acc: 0.9895 - val_loss: 0.7733 - val_acc: 0.9100\n",
            "Epoch 32/50\n",
            "20000/20000 [==============================] - 4s 202us/sample - loss: 0.0267 - acc: 0.9893 - val_loss: 0.7932 - val_acc: 0.9107\n",
            "Epoch 33/50\n",
            "20000/20000 [==============================] - 4s 200us/sample - loss: 0.0258 - acc: 0.9892 - val_loss: 0.7672 - val_acc: 0.9090\n",
            "Epoch 34/50\n",
            "20000/20000 [==============================] - 4s 198us/sample - loss: 0.0238 - acc: 0.9900 - val_loss: 0.8161 - val_acc: 0.9106\n",
            "Epoch 35/50\n",
            "20000/20000 [==============================] - 4s 196us/sample - loss: 0.0233 - acc: 0.9904 - val_loss: 0.7970 - val_acc: 0.9091\n",
            "Epoch 36/50\n",
            "20000/20000 [==============================] - 4s 200us/sample - loss: 0.0262 - acc: 0.9899 - val_loss: 0.7983 - val_acc: 0.9099\n",
            "Epoch 37/50\n",
            "20000/20000 [==============================] - 4s 198us/sample - loss: 0.0221 - acc: 0.9901 - val_loss: 0.8315 - val_acc: 0.9087\n",
            "Epoch 38/50\n",
            "20000/20000 [==============================] - 4s 196us/sample - loss: 0.0255 - acc: 0.9892 - val_loss: 0.8288 - val_acc: 0.9100\n",
            "Epoch 39/50\n",
            "20000/20000 [==============================] - 4s 199us/sample - loss: 0.0250 - acc: 0.9889 - val_loss: 0.8107 - val_acc: 0.9054\n",
            "Epoch 40/50\n",
            "20000/20000 [==============================] - 4s 199us/sample - loss: 0.0218 - acc: 0.9910 - val_loss: 0.8564 - val_acc: 0.9098\n",
            "Epoch 41/50\n",
            "20000/20000 [==============================] - 4s 197us/sample - loss: 0.0211 - acc: 0.9905 - val_loss: 0.8729 - val_acc: 0.9093\n",
            "Epoch 42/50\n",
            "20000/20000 [==============================] - 4s 196us/sample - loss: 0.0225 - acc: 0.9899 - val_loss: 0.8646 - val_acc: 0.9100\n",
            "Epoch 43/50\n",
            "20000/20000 [==============================] - 4s 197us/sample - loss: 0.0204 - acc: 0.9914 - val_loss: 0.8647 - val_acc: 0.9103\n",
            "Epoch 44/50\n",
            "20000/20000 [==============================] - 4s 196us/sample - loss: 0.0195 - acc: 0.9909 - val_loss: 0.8662 - val_acc: 0.9011\n",
            "Epoch 45/50\n",
            "20000/20000 [==============================] - 4s 198us/sample - loss: 0.0261 - acc: 0.9887 - val_loss: 0.9030 - val_acc: 0.9073\n",
            "Epoch 46/50\n",
            "20000/20000 [==============================] - 4s 195us/sample - loss: 0.0246 - acc: 0.9891 - val_loss: 1.0350 - val_acc: 0.9021\n",
            "Epoch 47/50\n",
            "20000/20000 [==============================] - 4s 195us/sample - loss: 0.0214 - acc: 0.9902 - val_loss: 0.9051 - val_acc: 0.9060\n",
            "Epoch 48/50\n",
            "20000/20000 [==============================] - 4s 197us/sample - loss: 0.0185 - acc: 0.9911 - val_loss: 0.8911 - val_acc: 0.9077\n",
            "Epoch 49/50\n",
            "20000/20000 [==============================] - 4s 193us/sample - loss: 0.0211 - acc: 0.9910 - val_loss: 0.9432 - val_acc: 0.9090\n",
            "Epoch 50/50\n",
            "20000/20000 [==============================] - 4s 197us/sample - loss: 0.0216 - acc: 0.9911 - val_loss: 0.9093 - val_acc: 0.9108\n"
          ],
          "name": "stdout"
        }
      ]
    },
    {
      "cell_type": "code",
      "metadata": {
        "id": "g9DC6dmLF8DC",
        "colab_type": "code",
        "colab": {
          "base_uri": "https://localhost:8080/",
          "height": 543
        },
        "outputId": "5dc9cf67-b861-4c53-fe2a-e0a63edb726e"
      },
      "source": [
        "import matplotlib.pyplot as plt\n",
        "\n",
        "\n",
        "def plot_graphs(history, string):\n",
        "  plt.plot(history.history[string])\n",
        "  plt.plot(history.history['val_'+string])\n",
        "  plt.xlabel(\"Epochs\")\n",
        "  plt.ylabel(string)\n",
        "  plt.legend([string, 'val_'+string])\n",
        "  plt.show()\n",
        "\n",
        "plot_graphs(history, 'acc')\n",
        "plot_graphs(history, 'loss')"
      ],
      "execution_count": 11,
      "outputs": [
        {
          "output_type": "display_data",
          "data": {
            "image/png": "[encoded data removed]",
            "text/plain": [
              "<Figure size 432x288 with 1 Axes>"
            ]
          },
          "metadata": {
            "tags": []
          }
        },
        {
          "output_type": "display_data",
          "data": {
            "image/png": "[encoded data removed]",
            "text/plain": [
              "<Figure size 432x288 with 1 Axes>"
            ]
          },
          "metadata": {
            "tags": []
          }
        }
      ]
    },
    {
      "cell_type": "code",
      "metadata": {
        "id": "7ZEZIUppGhdi",
        "colab_type": "code",
        "colab": {}
      },
      "source": [
        "model.save(\"test.h5\")"
      ],
      "execution_count": 0,
      "outputs": []
    }
  ]
}